{
 "cells": [
  {
   "cell_type": "code",
   "execution_count": 1,
   "metadata": {},
   "outputs": [],
   "source": [
    "import urllib.request"
   ]
  },
  {
   "cell_type": "raw",
   "metadata": {},
   "source": [
    "urllib---URL处理模块(Python=3.7)\n",
    "https://docs.python.org/zh-cn/3.7/library/urllib.html"
   ]
  },
  {
   "cell_type": "code",
   "execution_count": 2,
   "metadata": {},
   "outputs": [],
   "source": [
    "response=urllib.request.urlopen('https://www.python.org/')"
   ]
  },
  {
   "cell_type": "code",
   "execution_count": 3,
   "metadata": {},
   "outputs": [],
   "source": [
    "html=response.read()"
   ]
  },
  {
   "cell_type": "code",
   "execution_count": 4,
   "metadata": {},
   "outputs": [
    {
     "name": "stdout",
     "output_type": "stream",
     "text": [
      "49588\n"
     ]
    }
   ],
   "source": [
    "print(len(html))"
   ]
  },
  {
   "cell_type": "code",
   "execution_count": 6,
   "metadata": {},
   "outputs": [
    {
     "name": "stdout",
     "output_type": "stream",
     "text": [
      "Total no of tokens:  2933\n"
     ]
    }
   ],
   "source": [
    "tokens=[tok for tok in html.split()]\n",
    "print(\"Total no of tokens: \",str(len(tokens)))"
   ]
  },
  {
   "cell_type": "code",
   "execution_count": 7,
   "metadata": {},
   "outputs": [
    {
     "name": "stdout",
     "output_type": "stream",
     "text": [
      "[b'<!doctype', b'html>', b'<!--[if', b'lt', b'IE', b'7]>', b'<html', b'class=\"no-js', b'ie6', b'lt-ie7', b'lt-ie8', b'lt-ie9\">', b'<![endif]-->', b'<!--[if', b'IE', b'7]>', b'<html', b'class=\"no-js', b'ie7', b'lt-ie8', b'lt-ie9\">', b'<![endif]-->', b'<!--[if', b'IE', b'8]>', b'<html', b'class=\"no-js', b'ie8', b'lt-ie9\">', b'<![endif]-->', b'<!--[if', b'gt', b'IE', b'8]><!--><html', b'class=\"no-js\"', b'lang=\"en\"', b'dir=\"ltr\">', b'<!--<![endif]-->', b'<head>', b'<meta', b'charset=\"utf-8\">', b'<meta', b'http-equiv=\"X-UA-Compatible\"', b'content=\"IE=edge\">', b'<link', b'rel=\"prefetch\"', b'href=\"//ajax.googleapis.com/ajax/libs/jquery/1.8.2/jquery.min.js\">', b'<meta', b'name=\"application-name\"', b'content=\"Python.org\">', b'<meta', b'name=\"msapplication-tooltip\"', b'content=\"The', b'official', b'home', b'of', b'the', b'Python', b'Programming', b'Language\">', b'<meta', b'name=\"apple-mobile-web-app-title\"', b'content=\"Python.org\">', b'<meta', b'name=\"apple-mobile-web-app-capable\"', b'content=\"yes\">', b'<meta', b'name=\"apple-mobile-web-app-status-bar-style\"', b'content=\"black\">', b'<meta', b'name=\"viewport\"', b'content=\"width=device-width,', b'initial-scale=1.0\">', b'<meta', b'name=\"HandheldFriendly\"', b'content=\"True\">', b'<meta', b'name=\"format-detection\"', b'content=\"telephone=no\">', b'<meta', b'http-equiv=\"cleartype\"', b'content=\"on\">', b'<meta', b'http-equiv=\"imagetoolbar\"', b'content=\"false\">', b'<script', b'src=\"/static/js/libs/modernizr.js\"></script>', b'<link', b'href=\"/static/stylesheets/style.67f4b30f7483.css\"', b'rel=\"stylesheet\"', b'type=\"text/css\"', b'title=\"default\"', b'/>', b'<link', b'href=\"/static/stylesheets/mq.3ae8e02ece5b.css\"', b'rel=\"stylesheet\"', b'type=\"text/css\"', b'media=\"not', b'print,', b'braille,']\n"
     ]
    }
   ],
   "source": [
    "print(tokens[0:100])"
   ]
  },
  {
   "cell_type": "code",
   "execution_count": 8,
   "metadata": {},
   "outputs": [],
   "source": [
    "import re"
   ]
  },
  {
   "cell_type": "code",
   "execution_count": 11,
   "metadata": {},
   "outputs": [],
   "source": [
    "tokens=re.split('\\W+',html.decode('utf-8'))\n",
    "'''\n",
    "TypeError: can’t use a string pattern on a bytes-like object.\n",
    "html用decode(‘utf-8’)进行解码，由bytes变成string。\n",
    "py3的urlopen返回的不是string是bytes。\n",
    "\n",
    "解决方法：把’html’类型调整一下：html.decode(‘utf-8’)\n",
    "'''"
   ]
  },
  {
   "cell_type": "code",
   "execution_count": 12,
   "metadata": {},
   "outputs": [
    {
     "name": "stdout",
     "output_type": "stream",
     "text": [
      "6258\n",
      "['', 'doctype', 'html', 'if', 'lt', 'IE', '7', 'html', 'class', 'no', 'js', 'ie6', 'lt', 'ie7', 'lt', 'ie8', 'lt', 'ie9', 'endif', 'if', 'IE', '7', 'html', 'class', 'no', 'js', 'ie7', 'lt', 'ie8', 'lt', 'ie9', 'endif', 'if', 'IE', '8', 'html', 'class', 'no', 'js', 'ie8', 'lt', 'ie9', 'endif', 'if', 'gt', 'IE', '8', 'html', 'class', 'no', 'js', 'lang', 'en', 'dir', 'ltr', 'endif', 'head', 'meta', 'charset', 'utf', '8', 'meta', 'http', 'equiv', 'X', 'UA', 'Compatible', 'content', 'IE', 'edge', 'link', 'rel', 'prefetch', 'href', 'ajax', 'googleapis', 'com', 'ajax', 'libs', 'jquery', '1', '8', '2', 'jquery', 'min', 'js', 'meta', 'name', 'application', 'name', 'content', 'Python', 'org', 'meta', 'name', 'msapplication', 'tooltip', 'content', 'The', 'official']\n"
     ]
    }
   ],
   "source": [
    "print(len(tokens))\n",
    "print(tokens[0:100])"
   ]
  },
  {
   "cell_type": "code",
   "execution_count": 17,
   "metadata": {},
   "outputs": [],
   "source": [
    "import nltk\n",
    "from bs4 import BeautifulSoup"
   ]
  },
  {
   "cell_type": "code",
   "execution_count": 18,
   "metadata": {},
   "outputs": [],
   "source": [
    "# clean=nltk.clean_html(html)\n",
    "# nltk.clean_html()可能已经失效了,改用BeautifulSoup的同类方法\n",
    "clean=BeautifulSoup(html).get_text()"
   ]
  },
  {
   "cell_type": "code",
   "execution_count": 19,
   "metadata": {},
   "outputs": [
    {
     "name": "stdout",
     "output_type": "stream",
     "text": [
      "['Welcome', 'to', 'Python.org', '{', '\"@context\":', '\"https://schema.org\",', '\"@type\":', '\"WebSite\",', '\"url\":', '\"https://www.python.org/\",', '\"potentialAction\":', '{', '\"@type\":', '\"SearchAction\",', '\"target\":', '\"https://www.python.org/search/?q={search_term_string}\",', '\"query-input\":', '\"required', 'name=search_term_string\"', '}', '}', 'var', '_gaq', '=', '_gaq', '||', '[];', \"_gaq.push(['_setAccount',\", \"'UA-39055973-1']);\", \"_gaq.push(['_trackPageview']);\", '(function()', '{', 'var', 'ga', '=', \"document.createElement('script');\", 'ga.type', '=', \"'text/javascript';\", 'ga.async', '=', 'true;', 'ga.src', '=', \"('https:'\", '==', 'document.location.protocol', '?', \"'https://ssl'\", ':', \"'http://www')\", '+', \"'.google-analytics.com/ga.js';\", 'var', 's', '=', \"document.getElementsByTagName('script')[0];\", 's.parentNode.insertBefore(ga,', 's);', '})();', 'Notice:', 'While', 'Javascript', 'is', 'not', 'essential', 'for', 'this', 'website,', 'your', 'interaction', 'with', 'the', 'content', 'will', 'be', 'limited.', 'Please', 'turn', 'Javascript', 'on', 'for', 'the', 'full', 'experience.', 'Skip', 'to', 'content', '▼', 'Close', 'Python', 'PSF', 'Docs', 'PyPI', 'Jobs', 'Community', '▲', 'The', 'Python', 'Network']\n"
     ]
    }
   ],
   "source": [
    "tokens=[tok for tok in clean.split()]\n",
    "print(tokens[0:100])"
   ]
  },
  {
   "cell_type": "raw",
   "metadata": {},
   "source": [
    "最新版的NLTK 已经取消了这个函数，并鼓励用户使用BeautifulSoup 的get_text()函数，因此对于：\n",
    "clean = nltk.clean_html(html)\n",
    "我们应该将其改成（当然，在此之前还必须导入bs4 库中的BeautifulSoup 模块）：\n",
    "soup = BeautifulSoup(html,\"lxml\")\n",
    "clean = soup.get_text()"
   ]
  },
  {
   "cell_type": "code",
   "execution_count": 50,
   "metadata": {},
   "outputs": [],
   "source": [
    "import operator"
   ]
  },
  {
   "cell_type": "code",
   "execution_count": 51,
   "metadata": {},
   "outputs": [],
   "source": [
    "freq_dis={}"
   ]
  },
  {
   "cell_type": "code",
   "execution_count": 52,
   "metadata": {},
   "outputs": [],
   "source": [
    "for tok in tokens:\n",
    "    if tok in freq_dis:\n",
    "        freq_dis[tok]+=1\n",
    "    else:\n",
    "        freq_dis[tok]=1"
   ]
  },
  {
   "cell_type": "code",
   "execution_count": 53,
   "metadata": {},
   "outputs": [
    {
     "name": "stdout",
     "output_type": "stream",
     "text": [
      "[('Python', 51), ('>>>', 24), ('and', 19), ('to', 16), ('the', 16), ('=', 14), ('is', 12), ('for', 12), ('News', 11), ('Events', 11), ('of', 10), ('Community', 9), ('#', 9), ('a', 9), ('More', 9), ('PSF', 8), ('3', 8), ('in', 8), ('with', 7), ('Software', 7), ('your', 6), ('Docs', 6), ('The', 6), ('Guide', 6), ('User', 5)]\n"
     ]
    }
   ],
   "source": [
    "sorted_freq_dist= sorted(freq_dis.items(), key=operator.itemgetter(1),reverse=True)\n",
    "print(sorted_freq_dist[:25])"
   ]
  },
  {
   "cell_type": "code",
   "execution_count": 55,
   "metadata": {},
   "outputs": [
    {
     "name": "stdout",
     "output_type": "stream",
     "text": [
      "<FreqDist with 583 samples and 1059 outcomes>\n"
     ]
    }
   ],
   "source": [
    "Freq_dist_nltk=nltk.FreqDist(tokens)\n",
    "print(Freq_dist_nltk)"
   ]
  },
  {
   "cell_type": "code",
   "execution_count": 56,
   "metadata": {},
   "outputs": [
    {
     "name": "stdout",
     "output_type": "stream",
     "text": [
      "Welcome:1\n",
      "to:16\n",
      "Python.org:1\n",
      "{:3\n",
      "\"@context\"::1\n",
      "\"https://schema.org\",:1\n",
      "\"@type\"::2\n",
      "\"WebSite\",:1\n",
      "\"url\"::1\n",
      "\"https://www.python.org/\",:1\n",
      "\"potentialAction\"::1\n",
      "\"SearchAction\",:1\n",
      "\"target\"::1\n",
      "\"https://www.python.org/search/?q={search_term_string}\",:1\n",
      "\"query-input\"::1\n",
      "\"required:1\n",
      "name=search_term_string\":1\n",
      "}:2\n",
      "var:3\n",
      "_gaq:2\n",
      "=:14\n",
      "||:2\n",
      "[];:1\n",
      "_gaq.push(['_setAccount',:1\n",
      "'UA-39055973-1']);:1\n",
      "_gaq.push(['_trackPageview']);:1\n",
      "(function():1\n",
      "ga:1\n",
      "document.createElement('script');:1\n",
      "ga.type:1\n",
      "'text/javascript';:1\n",
      "ga.async:1\n",
      "true;:1\n",
      "ga.src:1\n",
      "('https:':1\n",
      "==:1\n",
      "document.location.protocol:1\n",
      "?:1\n",
      "'https://ssl':1\n",
      "::1\n",
      "'http://www'):1\n",
      "+:1\n",
      "'.google-analytics.com/ga.js';:1\n",
      "s:1\n",
      "document.getElementsByTagName('script')[0];:1\n",
      "s.parentNode.insertBefore(ga,:1\n",
      "s);:1\n",
      "})();:1\n",
      "Notice::1\n",
      "While:1\n",
      "Javascript:2\n",
      "is:12\n",
      "not:1\n",
      "essential:1\n",
      "for:12\n",
      "this:1\n",
      "website,:1\n",
      "your:6\n",
      "interaction:1\n",
      "with:7\n",
      "the:16\n",
      "content:2\n",
      "will:1\n",
      "be:3\n",
      "limited.:1\n",
      "Please:1\n",
      "turn:1\n",
      "on:4\n",
      "full:1\n",
      "experience.:1\n",
      "Skip:1\n",
      "▼:1\n",
      "Close:1\n",
      "Python:51\n",
      "PSF:8\n",
      "Docs:6\n",
      "PyPI:1\n",
      "Jobs:2\n",
      "Community:9\n",
      "▲:3\n",
      "The:6\n",
      "Network:1\n",
      "Donate:2\n",
      "≡:1\n",
      "Menu:1\n",
      "Search:1\n",
      "This:1\n",
      "Site:1\n",
      "GO:1\n",
      "A:2\n",
      "Smaller:1\n",
      "Larger:1\n",
      "Reset:1\n",
      "Socialize:1\n",
      "Facebook:1\n",
      "Twitter:1\n",
      "Chat:1\n",
      "IRC:3\n",
      "About:2\n",
      "Applications:2\n",
      "Quotes:2\n",
      "Getting:2\n",
      "Started:3\n",
      "Help:3\n",
      "Brochure:2\n",
      "Downloads:2\n",
      "All:3\n",
      "releases:2\n",
      "Source:2\n",
      "code:3\n",
      "Windows:2\n",
      "Mac:2\n",
      "OS:2\n",
      "X:2\n",
      "Other:2\n",
      "Platforms:2\n",
      "License:2\n",
      "Alternative:2\n",
      "Implementations:2\n",
      "Documentation:3\n",
      "Audio/Visual:2\n",
      "Talks:2\n",
      "Beginner's:2\n",
      "Guide:6\n",
      "Developer's:3\n",
      "FAQ:2\n",
      "Non-English:2\n",
      "PEP:2\n",
      "Index:2\n",
      "Books:2\n",
      "Essays:2\n",
      "Survey:4\n",
      "Diversity:3\n",
      "Mailing:2\n",
      "Lists:4\n",
      "Forums:2\n",
      "Annual:2\n",
      "Impact:2\n",
      "Report:3\n",
      "Conferences:2\n",
      "Special:2\n",
      "Interest:2\n",
      "Groups:2\n",
      "Logo:2\n",
      "Wiki:2\n",
      "Merchandise:2\n",
      "Awards:2\n",
      "Code:2\n",
      "of:10\n",
      "Conduct:2\n",
      "Success:3\n",
      "Stories:3\n",
      "Arts:2\n",
      "Business:2\n",
      "Education:2\n",
      "Engineering:2\n",
      "Government:2\n",
      "Scientific:3\n",
      "Software:7\n",
      "Development:2\n",
      "News:11\n",
      "Newsletter:2\n",
      "PyCon:3\n",
      "Events:11\n",
      "User:5\n",
      "Group:4\n",
      "Archive:4\n",
      "Submit:3\n",
      "an:3\n",
      "Event:2\n",
      ">_:1\n",
      "Launch:1\n",
      "Interactive:1\n",
      "Shell:1\n",
      "#:9\n",
      "3::4\n",
      "Fibonacci:1\n",
      "series:1\n",
      "up:2\n",
      "n:1\n",
      ">>>:24\n",
      "def:1\n",
      "fib(n)::1\n",
      "a,:2\n",
      "b:2\n",
      "0,:1\n",
      "1:5\n",
      "while:2\n",
      "a:9\n",
      "<:1\n",
      "n::1\n",
      "print(a,:1\n",
      "end=':1\n",
      "'):1\n",
      "b,:1\n",
      "a+b:1\n",
      "print():1\n",
      "fib(1000):1\n",
      "0:1\n",
      "2:3\n",
      "3:8\n",
      "5:2\n",
      "8:2\n",
      "13:1\n",
      "21:1\n",
      "34:1\n",
      "55:1\n",
      "89:1\n",
      "144:1\n",
      "233:1\n",
      "377:1\n",
      "610:1\n",
      "987:1\n",
      "Functions:1\n",
      "Defined:1\n",
      "core:1\n",
      "extensible:1\n",
      "programming:4\n",
      "defining:2\n",
      "functions.:2\n",
      "allows:1\n",
      "mandatory:1\n",
      "and:19\n",
      "optional:1\n",
      "arguments,:2\n",
      "keyword:1\n",
      "even:1\n",
      "arbitrary:1\n",
      "argument:1\n",
      "lists.:1\n",
      "More:9\n",
      "about:4\n",
      "functions:2\n",
      "in:8\n",
      "List:2\n",
      "comprehensions:1\n",
      "fruits:1\n",
      "['Banana',:1\n",
      "'Apple',:1\n",
      "'Lime']:1\n",
      "loud_fruits:1\n",
      "[fruit.upper():1\n",
      "fruit:1\n",
      "fruits]:1\n",
      "print(loud_fruits):1\n",
      "['BANANA',:1\n",
      "'APPLE',:1\n",
      "'LIME']:1\n",
      "enumerate:1\n",
      "function:1\n",
      "list(enumerate(fruits)):1\n",
      "[(0,:1\n",
      "'Banana'),:1\n",
      "(1,:1\n",
      "'Apple'),:1\n",
      "(2,:1\n",
      "'Lime')]:1\n",
      "Compound:1\n",
      "Data:1\n",
      "Types:1\n",
      "(known:1\n",
      "as:2\n",
      "arrays:1\n",
      "other:5\n",
      "languages):1\n",
      "are:4\n",
      "one:1\n",
      "compound:1\n",
      "data:1\n",
      "types:1\n",
      "that:4\n",
      "understands.:1\n",
      "can:3\n",
      "indexed,:1\n",
      "sliced:1\n",
      "manipulated:1\n",
      "built-in:1\n",
      "lists:1\n",
      "Simple:2\n",
      "arithmetic:1\n",
      "/:3\n",
      "0.5:1\n",
      "**:1\n",
      "17:2\n",
      "classic:1\n",
      "division:2\n",
      "returns:1\n",
      "float:1\n",
      "5.666666666666667:1\n",
      "//:1\n",
      "floor:1\n",
      "Intuitive:1\n",
      "Interpretation:1\n",
      "Calculations:1\n",
      "simple:2\n",
      "Python,:1\n",
      "expression:1\n",
      "syntax:2\n",
      "straightforward::1\n",
      "operators:1\n",
      "+,:1\n",
      "-,:1\n",
      "*:2\n",
      "work:3\n",
      "expected;:1\n",
      "parentheses:1\n",
      "():1\n",
      "used:1\n",
      "grouping.:1\n",
      "math:1\n",
      "3.:1\n",
      "output:1\n",
      "(with:1\n",
      "Unicode):1\n",
      "print(\"Hello,:1\n",
      "I'm:2\n",
      "Python!\"):1\n",
      "Hello,:1\n",
      "Python!:1\n",
      "Input,:1\n",
      "assignment:1\n",
      "name:1\n",
      "input('What:1\n",
      "name?\\n'):1\n",
      "print('Hi,:1\n",
      "%s.':1\n",
      "%:1\n",
      "name):1\n",
      "What:1\n",
      "name?:1\n",
      "Hi,:1\n",
      "Python.:2\n",
      "Quick:1\n",
      "&:2\n",
      "Easy:1\n",
      "Learn:3\n",
      "Experienced:1\n",
      "programmers:1\n",
      "any:1\n",
      "language:2\n",
      "pick:1\n",
      "very:1\n",
      "quickly,:1\n",
      "beginners:1\n",
      "find:1\n",
      "clean:1\n",
      "indentation:1\n",
      "structure:1\n",
      "easy:2\n",
      "learn.:1\n",
      "Whet:1\n",
      "appetite:1\n",
      "our:2\n",
      "overview.:1\n",
      "For:1\n",
      "loop:1\n",
      "list:2\n",
      "numbers:1\n",
      "[2,:1\n",
      "4,:1\n",
      "6,:1\n",
      "8]:1\n",
      "product:5\n",
      "number:2\n",
      "numbers::1\n",
      "...:2\n",
      "print('The:1\n",
      "is:',:1\n",
      "product):1\n",
      "is::1\n",
      "384:1\n",
      "Flow:1\n",
      "You’d:1\n",
      "Expect:1\n",
      "knows:1\n",
      "usual:1\n",
      "control:2\n",
      "flow:2\n",
      "statements:1\n",
      "languages:1\n",
      "speak:1\n",
      "—:2\n",
      "if,:1\n",
      "for,:1\n",
      "range:1\n",
      "some:1\n",
      "its:1\n",
      "own:1\n",
      "twists,:1\n",
      "course.:1\n",
      "tools:1\n",
      "lets:1\n",
      "you:1\n",
      "quickly:1\n",
      "integrate:1\n",
      "systems:1\n",
      "more:3\n",
      "effectively.:1\n",
      "Join:1\n",
      "official:1\n",
      "2019:3\n",
      "Developers:2\n",
      "Start:2\n",
      "survey!:2\n",
      "Get:1\n",
      "Whether:1\n",
      "you're:2\n",
      "new:1\n",
      "or:2\n",
      "experienced:1\n",
      "developer,:1\n",
      "it's:1\n",
      "learn:1\n",
      "use:1\n",
      "Beginner’s:1\n",
      "Download:1\n",
      "source:1\n",
      "installers:1\n",
      "available:2\n",
      "download:1\n",
      "all:2\n",
      "versions!:1\n",
      "Latest::1\n",
      "3.8.0:1\n",
      "Python's:1\n",
      "standard:1\n",
      "library,:1\n",
      "along:1\n",
      "tutorials:1\n",
      "guides,:1\n",
      "online.:1\n",
      "docs.python.org:1\n",
      "Looking:1\n",
      "have:1\n",
      "related:1\n",
      "position:1\n",
      "trying:1\n",
      "hire:1\n",
      "for?:1\n",
      "Our:1\n",
      "relaunched:1\n",
      "community-run:1\n",
      "job:1\n",
      "board:1\n",
      "place:1\n",
      "go.:1\n",
      "jobs.python.org:1\n",
      "Latest:1\n",
      "2019-11-18:2\n",
      "Foundation:4\n",
      "Fellow:1\n",
      "Members:1\n",
      "Q3:1\n",
      "Why:1\n",
      "Sponsor:1\n",
      "2020?:1\n",
      "2019-11-11:1\n",
      "Seeking:1\n",
      "Paid:1\n",
      "Contract:1\n",
      "Improving:1\n",
      "pip:1\n",
      "2019-11-02:1\n",
      "3.5.9:1\n",
      "released:1\n",
      "2019-10-31:1\n",
      "Developer:1\n",
      "here,:1\n",
      "take:1\n",
      "few:1\n",
      "minutes:1\n",
      "complete:1\n",
      "Upcoming:1\n",
      "2020-02-08:1\n",
      "PyCascades:1\n",
      "2020:4\n",
      "2020-07-06:1\n",
      "SciPy:1\n",
      "2020-07-20:1\n",
      "EuroPython:1\n",
      "2020-07-27:1\n",
      "EuroSciPy:1\n",
      "2020-10-26:1\n",
      "PyCC:1\n",
      "Meetup'19:1\n",
      "(Python:1\n",
      "Cape:1\n",
      "Coast:1\n",
      "Group):1\n",
      "\"Python:1\n",
      "automating:1\n",
      "repetitive:1\n",
      "tasks,:1\n",
      "leaving:1\n",
      "time:1\n",
      "SEO:2\n",
      "efforts.\":1\n",
      "Using:1\n",
      "scripts:1\n",
      "analyse:1\n",
      "broken:1\n",
      "links:1\n",
      "site:1\n",
      "by:2\n",
      "Marnix:1\n",
      "de:1\n",
      "Munck:1\n",
      "Use:1\n",
      "for…:1\n",
      "Web:1\n",
      "Development::3\n",
      "Django,:1\n",
      "Pyramid,:1\n",
      "Bottle,:1\n",
      "Tornado,:1\n",
      "Flask,:1\n",
      "web2py:1\n",
      "GUI:1\n",
      "tkInter,:1\n",
      "PyGObject,:1\n",
      "PyQt,:1\n",
      "PySide,:1\n",
      "Kivy,:1\n",
      "wxPython:1\n",
      "Numeric::1\n",
      "SciPy,:1\n",
      "Pandas,:1\n",
      "IPython:1\n",
      "Buildbot,:1\n",
      "Trac,:1\n",
      "Roundup:1\n",
      "System:1\n",
      "Administration::1\n",
      "Ansible,:1\n",
      "Salt,:1\n",
      "OpenStack:1\n",
      "Enhancement:1\n",
      "Proposals:1\n",
      "(PEPs)::1\n",
      "future:1\n",
      "discussed:1\n",
      "here.:1\n",
      "RSS:1\n",
      "mission:1\n",
      "promote,:1\n",
      "protect,:1\n",
      "advance:1\n",
      "language,:1\n",
      "support:1\n",
      "facilitate:1\n",
      "growth:1\n",
      "diverse:1\n",
      "international:1\n",
      "community:1\n",
      "programmers.:1\n",
      "Become:1\n",
      "Member:1\n",
      "Back:2\n",
      "Top:2\n",
      "Contributing:1\n",
      "Issue:2\n",
      "Tracker:1\n",
      "python-dev:1\n",
      "Core:1\n",
      "Mentorship:1\n",
      "Security:1\n",
      "General:1\n",
      "Contact:1\n",
      "Initiatives:1\n",
      "Website:1\n",
      "Bug:1\n",
      "Status:1\n",
      "Copyright:1\n",
      "©2001-2019.:1\n",
      "Legal:1\n",
      "Statements:1\n",
      "Privacy:1\n",
      "Policy:1\n",
      "Powered:1\n",
      "Heroku:1\n",
      "window.jQuery:1\n",
      "document.write('<script:1\n",
      "src=\"/static/js/libs/jquery-1.8.2.min.js\"><\\/script>'):1\n"
     ]
    }
   ],
   "source": [
    "for k,v in Freq_dist_nltk.items():\n",
    "    print(str(k)+':'+str(v))"
   ]
  },
  {
   "cell_type": "code",
   "execution_count": 58,
   "metadata": {},
   "outputs": [],
   "source": [
    "import matplotlib.pyplot as plt\n",
    "%matplotlib inline"
   ]
  },
  {
   "cell_type": "code",
   "execution_count": 59,
   "metadata": {},
   "outputs": [
    {
     "data": {
      "image/png": "[encoded data removed]",
      "text/plain": [
       "<Figure size 432x288 with 1 Axes>"
      ]
     },
     "metadata": {
      "needs_background": "light"
     },
     "output_type": "display_data"
    },
    {
     "data": {
      "text/plain": [
       "<matplotlib.axes._subplots.AxesSubplot at 0x283d068a438>"
      ]
     },
     "execution_count": 59,
     "metadata": {},
     "output_type": "execute_result"
    }
   ],
   "source": [
    "Freq_dist_nltk.plot(50, cumulative=False)"
   ]
  },
  {
   "cell_type": "code",
   "execution_count": 63,
   "metadata": {},
   "outputs": [],
   "source": [
    "# 停用词：the, a, an\n",
    "stopwords=[word.strip().lower() for word in open(\"english_stop.txt\")]"
   ]
  },
  {
   "cell_type": "code",
   "execution_count": 64,
   "metadata": {},
   "outputs": [
    {
     "data": {
      "image/png": "[encoded data removed]",
      "text/plain": [
       "<Figure size 432x288 with 1 Axes>"
      ]
     },
     "metadata": {
      "needs_background": "light"
     },
     "output_type": "display_data"
    },
    {
     "data": {
      "text/plain": [
       "<matplotlib.axes._subplots.AxesSubplot at 0x283d03beeb8>"
      ]
     },
     "execution_count": 64,
     "metadata": {},
     "output_type": "execute_result"
    }
   ],
   "source": [
    "clean_tokens=[tok for tok in tokens if len(tok.lower())>1 and (tok.lower() not in stopwords)]\n",
    "Freq_dist_nltk=nltk.FreqDist(clean_tokens)\n",
    "Freq_dist_nltk.plot(50, cumulative=False)"
   ]
  },
  {
   "cell_type": "code",
   "execution_count": null,
   "metadata": {},
   "outputs": [],
   "source": [
    "# 转成词云（待做）"
   ]
  }
 ],
 "metadata": {
  "kernelspec": {
   "display_name": "Python 3",
   "language": "python",
   "name": "python3"
  },
  "language_info": {
   "codemirror_mode": {
    "name": "ipython",
    "version": 3
   },
   "file_extension": ".py",
   "mimetype": "text/x-python",
   "name": "python",
   "nbconvert_exporter": "python",
   "pygments_lexer": "ipython3",
   "version": "3.7.3"
  }
 },
 "nbformat": 4,
 "nbformat_minor": 2
}
