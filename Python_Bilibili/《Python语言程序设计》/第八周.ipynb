{
 "cells": [
  {
   "cell_type": "markdown",
   "metadata": {},
   "source": [
    "## 实例13：体育竞技分析"
   ]
  },
  {
   "cell_type": "code",
   "execution_count": 6,
   "metadata": {},
   "outputs": [
    {
     "name": "stdout",
     "output_type": "stream",
     "text": [
      "这个程序模拟两个选手A和B的某种竞技比赛\n",
      "程序运行需要A和B的能力值（以0到1之间的小数表示）\n",
      "请输入选手A的能力值（0-1）：0.45\n",
      "请输入选手B的能力值（0-1）：0.50\n",
      "模拟比赛的场次：1000\n",
      "竞技分析开始，共模拟1000场比赛\n",
      "选手A获胜388场比赛，占比38.8%\n",
      "选手B获胜612场比赛，占比61.2%\n"
     ]
    }
   ],
   "source": [
    "import random\n",
    "def main():\n",
    "    printIntro()\n",
    "    probA,probB,n=getInputs()\n",
    "    winsA,winsB=simNGames(n,probA,probB)\n",
    "    printSummary(winsA,winsB)\n",
    "    \n",
    "def printIntro():\n",
    "    print(\"这个程序模拟两个选手A和B的某种竞技比赛\")\n",
    "    print(\"程序运行需要A和B的能力值（以0到1之间的小数表示）\")\n",
    "    \n",
    "def getInputs():\n",
    "    a=eval(input(\"请输入选手A的能力值（0-1）：\"))\n",
    "    b=eval(input(\"请输入选手B的能力值（0-1）：\"))\n",
    "    n=eval(input(\"模拟比赛的场次：\"))\n",
    "    return a,b,n\n",
    "\n",
    "def printSummary(winsA,winsB):\n",
    "    n=winsA+winsB\n",
    "    print(\"竞技分析开始，共模拟{}场比赛\".format(n))\n",
    "    print(\"选手A获胜{}场比赛，占比{:0.1%}\".format(winsA,winsA/n))\n",
    "    print(\"选手B获胜{}场比赛，占比{:0.1%}\".format(winsB,winsB/n))\n",
    "    \n",
    "def simNGames(n,probA,probB):\n",
    "    winsA,winsB=0,0\n",
    "    for i in range(n):\n",
    "        scoreA,scoreB=simOneGame(probA,probB)\n",
    "        if scoreA>scoreB:\n",
    "            winsA += 1\n",
    "        else:\n",
    "            winsB += 1\n",
    "    return winsA,winsB\n",
    "\n",
    "def simOneGame(probA,probB):\n",
    "    scoreA,scoreB=0,0\n",
    "    serving=\"A\"\n",
    "    while not gameOver(scoreA,scoreB):\n",
    "        if serving == \"A\":\n",
    "            if random.random()<probA:\n",
    "                scoreA += 1\n",
    "            else:\n",
    "                serving=\"B\"\n",
    "        else:\n",
    "            if random.random()<probB:\n",
    "                scoreB += 1\n",
    "            else:\n",
    "                serving=\"A\"\n",
    "    return scoreA,scoreB\n",
    "\n",
    "def gameOver(a,b):\n",
    "    return a==15 or b==15\n",
    "\n",
    "main()"
   ]
  },
  {
   "cell_type": "markdown",
   "metadata": {},
   "source": [
    "## 实例14：第三方库安装脚本"
   ]
  },
  {
   "cell_type": "code",
   "execution_count": null,
   "metadata": {},
   "outputs": [],
   "source": [
    "#BatchInstall.py\n",
    "import os\n",
    "libs={\"numpy\",\"matplotlib\",\"pillow\",\"sklearn\",\"requests\",\"jieba\",\"beautifulsoup4\",\"wheel\",\"network\",\\\n",
    "      \"sympy\",\"pyinstaller\",\"django\",\"flask\",\"werobot\",\"pyqt5\",\"pandas\",\"pyopengl\",\"[pypdf2]\",\"docopt\",\"pygame\"}\n",
    "try:\n",
    "    for lib in libs:\n",
    "        os.system(\"pip install \"+lib)\n",
    "    print(\"Successful\")\n",
    "except:\n",
    "    print(\"Failed Somehow\")"
   ]
  }
 ],
 "metadata": {
  "kernelspec": {
   "display_name": "Python 3",
   "language": "python",
   "name": "python3"
  },
  "language_info": {
   "codemirror_mode": {
    "name": "ipython",
    "version": 3
   },
   "file_extension": ".py",
   "mimetype": "text/x-python",
   "name": "python",
   "nbconvert_exporter": "python",
   "pygments_lexer": "ipython3",
   "version": "3.7.3"
  }
 },
 "nbformat": 4,
 "nbformat_minor": 2
}
