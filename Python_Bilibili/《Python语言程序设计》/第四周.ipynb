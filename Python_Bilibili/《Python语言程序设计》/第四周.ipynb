{
 "cells": [
  {
   "cell_type": "markdown",
   "metadata": {},
   "source": [
    "## 实例5：身体质量指数BMI"
   ]
  },
  {
   "cell_type": "code",
   "execution_count": 12,
   "metadata": {},
   "outputs": [
    {
     "name": "stdout",
     "output_type": "stream",
     "text": [
      "请输入身高（米）和体重（公斤）[逗号隔开]：1.74,84\n"
     ]
    }
   ],
   "source": [
    "#CalBMIv1.py\n",
    "height,weight=eval(input(\"请输入身高（米）和体重（公斤）[逗号隔开]：\"))"
   ]
  },
  {
   "cell_type": "code",
   "execution_count": 13,
   "metadata": {},
   "outputs": [
    {
     "name": "stdout",
     "output_type": "stream",
     "text": [
      "BMI数值为：27.74\n",
      "BMI指标为：国际'偏胖'\n"
     ]
    }
   ],
   "source": [
    "bmi=weight / pow(height,2)\n",
    "print(\"BMI数值为：{:.2f}\".format(bmi))\n",
    "who=\"\"\n",
    "if bmi<18.5:\n",
    "    who=\"偏瘦\"\n",
    "elif 18.5<=bmi<25:\n",
    "    who=\"正常\"\n",
    "elif 25<=bmi<30:\n",
    "    who=\"偏胖\"\n",
    "else:\n",
    "    who=\"肥胖\"\n",
    "print(\"BMI指标为：国际'{0}'\".format(who))"
   ]
  },
  {
   "cell_type": "code",
   "execution_count": 14,
   "metadata": {},
   "outputs": [
    {
     "name": "stdout",
     "output_type": "stream",
     "text": [
      "请输入身高（米）和体重（公斤）[逗号隔开]：1.73,84\n",
      "BMI数值为：28.07\n",
      "BMI指标为：国内'肥胖'\n"
     ]
    }
   ],
   "source": [
    "#CalBMIv2.py\n",
    "height,weight=eval(input(\"请输入身高（米）和体重（公斤）[逗号隔开]：\"))\n",
    "bmi=weight / pow(height,2)\n",
    "print(\"BMI数值为：{:.2f}\".format(bmi))\n",
    "who=\"\"\n",
    "if bmi<18.5:\n",
    "    nat=\"偏瘦\"\n",
    "elif 18.5<=bmi<24:\n",
    "    nat=\"正常\"\n",
    "elif 24<=bmi<28:\n",
    "    nat=\"偏胖\"\n",
    "else:\n",
    "    nat=\"肥胖\"\n",
    "print(\"BMI指标为：国内'{0}'\".format(nat))"
   ]
  },
  {
   "cell_type": "code",
   "execution_count": 15,
   "metadata": {},
   "outputs": [
    {
     "name": "stdout",
     "output_type": "stream",
     "text": [
      "请输入身高（米）和体重（公斤）[逗号隔开]：1.74,84\n",
      "BMI数值为：27.74\n",
      "BMI指标为:国际'偏胖'国内'偏胖'\n"
     ]
    }
   ],
   "source": [
    "#CalBMIv3.py\n",
    "height,weight=eval(input(\"请输入身高（米）和体重（公斤）[逗号隔开]：\"))\n",
    "bmi=weight / pow(height,2)\n",
    "print(\"BMI数值为：{:.2f}\".format(bmi))\n",
    "who,nat=\"\",\"\"\n",
    "if bmi<18.5:\n",
    "    who,nat=\"偏瘦\",\"偏瘦\"\n",
    "elif 18.5<=bmi<24:\n",
    "    who,nat=\"正常\",\"正常\"\n",
    "elif 24<=bmi<25:\n",
    "    who,nat=\"正常\",\"偏胖\"\n",
    "elif 25<=bmi<28:\n",
    "    who,nat=\"偏胖\",\"偏胖\"\n",
    "elif 28<=bmi<30:\n",
    "    who,nat=\"偏胖\",\"肥胖\"    \n",
    "else:\n",
    "    nat=\"肥胖\"\n",
    "print(\"BMI指标为:国际'{0}'国内'{1}'\".format(who,nat))"
   ]
  },
  {
   "cell_type": "markdown",
   "metadata": {},
   "source": [
    "## 实例6：圆周率的计算"
   ]
  },
  {
   "cell_type": "code",
   "execution_count": 16,
   "metadata": {},
   "outputs": [
    {
     "name": "stdout",
     "output_type": "stream",
     "text": [
      "圆周率值是：3.141592653589793\n"
     ]
    }
   ],
   "source": [
    "#CalPiV1.py\n",
    "pi=0\n",
    "N=100\n",
    "for k in range(N):\n",
    "    pi += 1/pow(16,k)*(4/(8*k+1)-2/(8*k+4)-1/(8*k+5)-1/(8*k+6))\n",
    "print(\"圆周率值是：{}\".format(pi))"
   ]
  },
  {
   "cell_type": "code",
   "execution_count": 17,
   "metadata": {},
   "outputs": [],
   "source": [
    "#CalPiV2.py\n",
    "from random import random\n",
    "from time import perf_counter"
   ]
  },
  {
   "cell_type": "code",
   "execution_count": 20,
   "metadata": {},
   "outputs": [
    {
     "name": "stdout",
     "output_type": "stream",
     "text": [
      "圆周率值是：3.143104\n",
      "运行时间是：3.07341s\n"
     ]
    }
   ],
   "source": [
    "DARTS=1000*1000\n",
    "hits=0\n",
    "start=perf_counter()\n",
    "for i in range(1,DARTS+1):\n",
    "    x,y=random(),random()\n",
    "    dist=pow(x**2+y**2,0.5)\n",
    "    if dist<=1.0:\n",
    "        hits=hits+1\n",
    "pi=4*(hits/DARTS)\n",
    "print(\"圆周率值是：{}\".format(pi))\n",
    "print(\"运行时间是：{:.5f}s\".format(perf_counter()-start))"
   ]
  },
  {
   "cell_type": "code",
   "execution_count": null,
   "metadata": {},
   "outputs": [],
   "source": []
  }
 ],
 "metadata": {
  "kernelspec": {
   "display_name": "Python 3",
   "language": "python",
   "name": "python3"
  },
  "language_info": {
   "codemirror_mode": {
    "name": "ipython",
    "version": 3
   },
   "file_extension": ".py",
   "mimetype": "text/x-python",
   "name": "python",
   "nbconvert_exporter": "python",
   "pygments_lexer": "ipython3",
   "version": "3.7.4"
  }
 },
 "nbformat": 4,
 "nbformat_minor": 2
}
