{
 "cells": [
  {
   "cell_type": "markdown",
   "metadata": {},
   "source": [
    "## 实例9：基本统计值计算"
   ]
  },
  {
   "cell_type": "code",
   "execution_count": 1,
   "metadata": {},
   "outputs": [
    {
     "name": "stdout",
     "output_type": "stream",
     "text": [
      "请输入数字（回车退出）：1\n",
      "请输入数字（回车退出）：2\n",
      "请输入数字（回车退出）：3\n",
      "请输入数字（回车退出）：4\n",
      "请输入数字（回车退出）：7\n",
      "请输入数字（回车退出）：8\n",
      "请输入数字（回车退出）：9\n",
      "请输入数字（回车退出）：10\n",
      "请输入数字（回车退出）：\n",
      "平均值:5.5,方差:3.4,中位数:5.5.\n"
     ]
    }
   ],
   "source": [
    "#CalStatisticsV1.py\n",
    "def getNum():    #获取用户不定长度的输入\n",
    "    nums=[]\n",
    "    iNumStr=input(\"请输入数字（回车退出）：\")\n",
    "    while iNumStr != \"\":\n",
    "        nums.append(eval(iNumStr))\n",
    "        iNumStr=input(\"请输入数字（回车退出）：\")\n",
    "    return nums\n",
    "\n",
    "def mean(numbers):    #计算平均值\n",
    "    s=0.0\n",
    "    for num in numbers:\n",
    "        s=s+num\n",
    "    return s/len(numbers)\n",
    "\n",
    "def dev(numbers,mean):    #计算方差\n",
    "    sdev=0.0\n",
    "    for num in numbers:\n",
    "        sdev=sdev+(num-mean)**2\n",
    "    return pow(sdev/(len(numbers)-1),0.5)\n",
    "\n",
    "def median(numbers):    #计算中位数\n",
    "    sorted(numbers)\n",
    "    size=len(numbers)\n",
    "    if size%2 == 0:\n",
    "        med=(numbers[size//2-1]+numbers[size//2])/2\n",
    "    else:\n",
    "        med=numbers[size//2]\n",
    "    return med\n",
    "\n",
    "n=getNum()\n",
    "m=mean(n)\n",
    "print(\"平均值:{},方差:{:.2},中位数:{}.\".format(m,dev(n,m),median(n)))"
   ]
  },
  {
   "cell_type": "markdown",
   "metadata": {},
   "source": [
    "## 实例10：文本词频统计"
   ]
  },
  {
   "cell_type": "code",
   "execution_count": 3,
   "metadata": {},
   "outputs": [
    {
     "name": "stdout",
     "output_type": "stream",
     "text": [
      "the          25\n",
      "of           14\n",
      "in           12\n",
      "and           9\n",
      "a             8\n",
      "as            6\n",
      "to            5\n",
      "shakespeare's    5\n",
      "by            5\n",
      "for           5\n"
     ]
    }
   ],
   "source": [
    "#CalHamletV1.py\n",
    "def getText():\n",
    "    txt=open(\"hamlet.txt\",\"r\").read()\n",
    "    txt=txt.lower()\n",
    "    for ch in '!\"#$%&()*+,-./:;<=>?@[\\\\]^_`{|}~':\n",
    "        txt=txt.replace(ch, \" \")\n",
    "    return txt\n",
    "\n",
    "hamletTxt=getText()\n",
    "words=hamletTxt.split()\n",
    "counts={}\n",
    "for word in words:\n",
    "    counts[word]=counts.get(word,0)+1\n",
    "items=list(counts.items())\n",
    "items.sort(key=lambda x:x[1],reverse=True)\n",
    "for i in range(10):\n",
    "    word,count=items[i]\n",
    "    print(\"{0:<10}{1:>5}\".format(word,count))"
   ]
  },
  {
   "cell_type": "code",
   "execution_count": 9,
   "metadata": {},
   "outputs": [
    {
     "name": "stderr",
     "output_type": "stream",
     "text": [
      "Building prefix dict from the default dictionary ...\n",
      "Loading model from cache C:\\Users\\Baymax\\AppData\\Local\\Temp\\jieba.cache\n",
      "Loading model cost 2.802 seconds.\n",
      "Prefix dict has been built successfully.\n"
     ]
    },
    {
     "name": "stdout",
     "output_type": "stream",
     "text": [
      "曹操          934\n",
      "孔明          831\n",
      "将军          760\n",
      "却说          647\n",
      "玄德          570\n",
      "关公          509\n",
      "丞相          488\n",
      "二人          463\n",
      "不可          435\n",
      "荆州          420\n"
     ]
    }
   ],
   "source": [
    "#CalThreeKingdomsV1.py\n",
    "import jieba\n",
    "txt=open(\"threekingdoms.txt\",\"r\",encoding=\"utf-8\").read()\n",
    "words=jieba.lcut(txt)\n",
    "counts={}\n",
    "for word in words:\n",
    "    if len(word) == 1:\n",
    "        continue\n",
    "    else:\n",
    "        counts[word]=counts.get(word,0)+1\n",
    "items=list(counts.items())\n",
    "items.sort(key=lambda x:x[1],reverse=True)\n",
    "for i in range(10):\n",
    "    word,count=items[i]\n",
    "    print(\"{0:<10}{1:>5}\".format(word,count))"
   ]
  },
  {
   "cell_type": "code",
   "execution_count": 11,
   "metadata": {},
   "outputs": [
    {
     "name": "stdout",
     "output_type": "stream",
     "text": [
      "曹操         1429\n",
      "孔明         1373\n",
      "刘备         1224\n",
      "关羽          779\n",
      "张飞          348\n",
      "商议          344\n",
      "如何          336\n",
      "主公          327\n",
      "军士          309\n",
      "吕布          299\n"
     ]
    }
   ],
   "source": [
    "#CalThreeKingdomsV2.py\n",
    "import jieba\n",
    "txt=open(\"threekingdoms.txt\",\"r\",encoding=\"utf-8\").read()\n",
    "excludes={\"将军\",\"却说\",\"荆州\",\"二人\",\"不可\",\"不能\",\"如此\"}\n",
    "words=jieba.lcut(txt)\n",
    "counts={}\n",
    "for word in words:\n",
    "    if len(word) == 1:\n",
    "        continue\n",
    "    elif word == \"诸葛亮\" or word == \"孔明曰\":\n",
    "        rword=\"孔明\"\n",
    "    elif word == \"关公\" or word == \"云长\":\n",
    "        rword=\"关羽\"\n",
    "    elif word == \"玄德\" or word == \"玄德曰\":\n",
    "        rword=\"刘备\"\n",
    "    elif word == \"孟德\" or word == \"丞相\":\n",
    "        rword=\"曹操\"\n",
    "    else:\n",
    "        rword=word\n",
    "    counts[rword]=counts.get(rword,0)+1\n",
    "for word in excludes:\n",
    "    del counts[word]\n",
    "items=list(counts.items())\n",
    "items.sort(key=lambda x:x[1],reverse=True)\n",
    "for i in range(10):\n",
    "    word,count=items[i]\n",
    "    print(\"{0:<10}{1:>5}\".format(word,count))"
   ]
  },
  {
   "cell_type": "code",
   "execution_count": null,
   "metadata": {},
   "outputs": [],
   "source": []
  }
 ],
 "metadata": {
  "kernelspec": {
   "display_name": "Python 3",
   "language": "python",
   "name": "python3"
  },
  "language_info": {
   "codemirror_mode": {
    "name": "ipython",
    "version": 3
   },
   "file_extension": ".py",
   "mimetype": "text/x-python",
   "name": "python",
   "nbconvert_exporter": "python",
   "pygments_lexer": "ipython3",
   "version": "3.7.4"
  }
 },
 "nbformat": 4,
 "nbformat_minor": 2
}
