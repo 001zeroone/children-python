{
 "cells": [
  {
   "cell_type": "markdown",
   "metadata": {},
   "source": [
    "## 实例3：天天向上的力量"
   ]
  },
  {
   "cell_type": "code",
   "execution_count": 2,
   "metadata": {},
   "outputs": [
    {
     "name": "stdout",
     "output_type": "stream",
     "text": [
      "向上：1.44，向下：0.69\n"
     ]
    }
   ],
   "source": [
    "#DayDayUpQ1.py\n",
    "dayup=pow(1.001,365)\n",
    "daydown=pow(0.999,365)\n",
    "print(\"向上：{:.2f}，向下：{:.2f}\".format(dayup,daydown))"
   ]
  },
  {
   "cell_type": "code",
   "execution_count": 3,
   "metadata": {},
   "outputs": [
    {
     "name": "stdout",
     "output_type": "stream",
     "text": [
      "向上：6.17，向下：0.16\n"
     ]
    }
   ],
   "source": [
    "#DayDayUpQ2.py\n",
    "dayfactor=0.005\n",
    "dayup=pow(1+dayfactor,365)\n",
    "daydown=pow(1-dayfactor,365)\n",
    "print(\"向上：{:.2f}，向下：{:.2f}\".format(dayup,daydown))"
   ]
  },
  {
   "cell_type": "code",
   "execution_count": 4,
   "metadata": {},
   "outputs": [
    {
     "name": "stdout",
     "output_type": "stream",
     "text": [
      "向上：37.78，向下：0.03\n"
     ]
    }
   ],
   "source": [
    "#DayDayUpQ2.py\n",
    "dayfactor=0.01\n",
    "dayup=pow(1+dayfactor,365)\n",
    "daydown=pow(1-dayfactor,365)\n",
    "print(\"向上：{:.2f}，向下：{:.2f}\".format(dayup,daydown))"
   ]
  },
  {
   "cell_type": "code",
   "execution_count": 5,
   "metadata": {},
   "outputs": [
    {
     "name": "stdout",
     "output_type": "stream",
     "text": [
      "工作日的力量：4.63\n"
     ]
    }
   ],
   "source": [
    "#DayDayUpQ3.py\n",
    "dayup=1.0\n",
    "dayfactor=0.01\n",
    "for i in range(365):\n",
    "    if i%7 in [6,0]:\n",
    "        dayup=dayup*(1-dayfactor)\n",
    "    else:\n",
    "        dayup=dayup*(1+dayfactor)\n",
    "print(\"工作日的力量：{:.2f}\".format(dayup))"
   ]
  },
  {
   "cell_type": "code",
   "execution_count": 6,
   "metadata": {},
   "outputs": [
    {
     "name": "stdout",
     "output_type": "stream",
     "text": [
      "工作日的努力参数是：0.019\n"
     ]
    }
   ],
   "source": [
    "#DayDayUpQ4.py\n",
    "def dayup(df):\n",
    "    dayup=1\n",
    "    for i in range(365):\n",
    "        if i%7 in [6,0]:\n",
    "            dayup=dayup*(1-0.01)\n",
    "        else:\n",
    "            dayup=dayup*(1+df)\n",
    "    return dayup\n",
    "\n",
    "dayfactor=0.01\n",
    "while dayup(dayfactor)<37.78:\n",
    "    dayfactor+=0.001\n",
    "    \n",
    "print(\"工作日的努力参数是：{:.3f}\".format(dayfactor))"
   ]
  },
  {
   "cell_type": "code",
   "execution_count": 7,
   "metadata": {},
   "outputs": [
    {
     "data": {
      "text/plain": [
       "962.8910773942189"
      ]
     },
     "execution_count": 7,
     "metadata": {},
     "output_type": "execute_result"
    }
   ],
   "source": [
    "pow(1+0.019,365)"
   ]
  },
  {
   "cell_type": "markdown",
   "metadata": {},
   "source": [
    "## 实例4：文本进度条"
   ]
  },
  {
   "cell_type": "code",
   "execution_count": 8,
   "metadata": {},
   "outputs": [
    {
     "name": "stdout",
     "output_type": "stream",
     "text": [
      "------执行开始------\n",
      " 0 %[->..........]\n",
      "10 %[*->.........]\n",
      "20 %[**->........]\n",
      "30 %[***->.......]\n",
      "40 %[****->......]\n",
      "50 %[*****->.....]\n",
      "60 %[******->....]\n",
      "70 %[*******->...]\n",
      "80 %[********->..]\n",
      "90 %[*********->.]\n",
      "100%[**********->]\n",
      "------执行结束------\n"
     ]
    }
   ],
   "source": [
    "#TextProBarV1.py\n",
    "import time\n",
    "scale=10\n",
    "print(\"------执行开始------\")\n",
    "for i in range(scale+1):\n",
    "    a='*'*i\n",
    "    b='.'*(scale-i)\n",
    "    c=(i/scale)*100\n",
    "    print(\"{:^3.0f}%[{}->{}]\".format(c,a,b))\n",
    "    time.sleep(0.1)\n",
    "print(\"------执行结束------\")"
   ]
  },
  {
   "cell_type": "code",
   "execution_count": 9,
   "metadata": {},
   "outputs": [
    {
     "name": "stdout",
     "output_type": "stream",
     "text": [
      "100%"
     ]
    }
   ],
   "source": [
    "#TextProBarV1.py\n",
    "import time\n",
    "for i in range(101):\n",
    "    print(\"\\r{:3}%\".format(i),end=\"\")\n",
    "    time.sleep(0.1)"
   ]
  },
  {
   "cell_type": "code",
   "execution_count": 11,
   "metadata": {},
   "outputs": [
    {
     "name": "stdout",
     "output_type": "stream",
     "text": [
      "-----------执行开始----------\n",
      "100%[**************************************************->]5.29s\n",
      "-----------执行结束----------\n"
     ]
    }
   ],
   "source": [
    "#TextProBarV3.py\n",
    "import time\n",
    "scale=50\n",
    "#print(\"------执行开始------\")\n",
    "print(\"执行开始\".center(scale//2,\"-\"))\n",
    "start=time.perf_counter()\n",
    "for i in range(scale+1):\n",
    "    a='*'*i\n",
    "    b='.'*(scale-i)\n",
    "    c=(i/scale)*100\n",
    "    dur=time.perf_counter()-start\n",
    "    print(\"\\r{:^3.0f}%[{}->{}]{:.2f}s\".format(c,a,b,dur),end='')\n",
    "    time.sleep(0.1)\n",
    "#print(\"------执行结束------\")\n",
    "print(\"\\n\"+\"执行结束\".center(scale//2,'-'))"
   ]
  },
  {
   "cell_type": "code",
   "execution_count": null,
   "metadata": {},
   "outputs": [],
   "source": []
  }
 ],
 "metadata": {
  "kernelspec": {
   "display_name": "Python 3",
   "language": "python",
   "name": "python3"
  },
  "language_info": {
   "codemirror_mode": {
    "name": "ipython",
    "version": 3
   },
   "file_extension": ".py",
   "mimetype": "text/x-python",
   "name": "python",
   "nbconvert_exporter": "python",
   "pygments_lexer": "ipython3",
   "version": "3.7.4"
  }
 },
 "nbformat": 4,
 "nbformat_minor": 2
}
