{
 "cells": [
  {
   "cell_type": "code",
   "execution_count": 1,
   "metadata": {},
   "outputs": [],
   "source": [
    "import cv2    # opencv读取的格式是BRG"
   ]
  },
  {
   "cell_type": "code",
   "execution_count": 2,
   "metadata": {},
   "outputs": [],
   "source": [
    "import matplotlib.pyplot as plt"
   ]
  },
  {
   "cell_type": "code",
   "execution_count": 3,
   "metadata": {},
   "outputs": [],
   "source": [
    "import numpy as np"
   ]
  },
  {
   "cell_type": "code",
   "execution_count": 4,
   "metadata": {},
   "outputs": [],
   "source": [
    "%matplotlib inline"
   ]
  },
  {
   "cell_type": "code",
   "execution_count": 5,
   "metadata": {},
   "outputs": [],
   "source": [
    "img=cv2.imread('car.png')"
   ]
  },
  {
   "cell_type": "code",
   "execution_count": 6,
   "metadata": {},
   "outputs": [
    {
     "data": {
      "text/plain": [
       "array([[[254, 194, 159],\n",
       "        [254, 194, 159],\n",
       "        [255, 200, 168],\n",
       "        ...,\n",
       "        [230, 174, 145],\n",
       "        [230, 174, 145],\n",
       "        [230, 174, 145]],\n",
       "\n",
       "       [[255, 197, 161],\n",
       "        [255, 196, 161],\n",
       "        [255, 199, 167],\n",
       "        ...,\n",
       "        [230, 174, 145],\n",
       "        [230, 174, 145],\n",
       "        [230, 174, 145]],\n",
       "\n",
       "       [[255, 197, 162],\n",
       "        [255, 196, 160],\n",
       "        [252, 196, 162],\n",
       "        ...,\n",
       "        [230, 174, 145],\n",
       "        [230, 174, 145],\n",
       "        [230, 174, 145]],\n",
       "\n",
       "       ...,\n",
       "\n",
       "       [[ 47,  37,  36],\n",
       "        [ 47,  37,  36],\n",
       "        [ 49,  40,  38],\n",
       "        ...,\n",
       "        [153, 157, 163],\n",
       "        [148, 151, 158],\n",
       "        [142, 146, 152]],\n",
       "\n",
       "       [[ 47,  38,  35],\n",
       "        [ 47,  38,  35],\n",
       "        [ 49,  40,  37],\n",
       "        ...,\n",
       "        [150, 155, 159],\n",
       "        [156, 161, 165],\n",
       "        [160, 164, 168]],\n",
       "\n",
       "       [[ 49,  40,  37],\n",
       "        [ 50,  41,  38],\n",
       "        [ 44,  35,  32],\n",
       "        ...,\n",
       "        [155, 160, 163],\n",
       "        [155, 160, 163],\n",
       "        [153, 158, 161]]], dtype=uint8)"
      ]
     },
     "execution_count": 6,
     "metadata": {},
     "output_type": "execute_result"
    }
   ],
   "source": [
    "img"
   ]
  },
  {
   "cell_type": "code",
   "execution_count": 7,
   "metadata": {},
   "outputs": [],
   "source": [
    "# 图像的显示\n",
    "cv2.imshow('image',img)\n",
    "# 等待时间，毫秒级，0表示任意键终止\n",
    "cv2.waitKey(0)\n",
    "cv2.destroyAllWindows()"
   ]
  },
  {
   "cell_type": "code",
   "execution_count": 8,
   "metadata": {},
   "outputs": [
    {
     "data": {
      "text/plain": [
       "(550, 949, 3)"
      ]
     },
     "execution_count": 8,
     "metadata": {},
     "output_type": "execute_result"
    }
   ],
   "source": [
    "img.shape"
   ]
  },
  {
   "cell_type": "code",
   "execution_count": 9,
   "metadata": {},
   "outputs": [],
   "source": [
    "def cv_show(name,img):\n",
    "    cv2.imshow(name,img)\n",
    "    cv2.waitKey(0)\n",
    "    cv2.destroyAllWindows()"
   ]
  },
  {
   "cell_type": "code",
   "execution_count": 11,
   "metadata": {},
   "outputs": [
    {
     "data": {
      "text/plain": [
       "array([[190, 190, 196, ..., 171, 171, 171],\n",
       "       [192, 192, 195, ..., 171, 171, 171],\n",
       "       [193, 191, 192, ..., 171, 171, 171],\n",
       "       ...,\n",
       "       [ 37,  37,  40, ..., 158, 152, 147],\n",
       "       [ 38,  38,  40, ..., 155, 161, 164],\n",
       "       [ 40,  41,  35, ..., 160, 160, 158]], dtype=uint8)"
      ]
     },
     "execution_count": 11,
     "metadata": {},
     "output_type": "execute_result"
    }
   ],
   "source": [
    "img=cv2.imread('car.png',cv2.IMREAD_GRAYSCALE)\n",
    "img"
   ]
  },
  {
   "cell_type": "code",
   "execution_count": 12,
   "metadata": {},
   "outputs": [
    {
     "data": {
      "text/plain": [
       "(550, 949)"
      ]
     },
     "execution_count": 12,
     "metadata": {},
     "output_type": "execute_result"
    }
   ],
   "source": [
    "img.shape"
   ]
  },
  {
   "cell_type": "code",
   "execution_count": 15,
   "metadata": {},
   "outputs": [],
   "source": [
    "cv_show('img2',img)"
   ]
  },
  {
   "cell_type": "code",
   "execution_count": 16,
   "metadata": {},
   "outputs": [
    {
     "data": {
      "text/plain": [
       "True"
      ]
     },
     "execution_count": 16,
     "metadata": {},
     "output_type": "execute_result"
    }
   ],
   "source": [
    "# 保存\n",
    "cv2.imwrite('mycar.png',img)"
   ]
  },
  {
   "cell_type": "code",
   "execution_count": 17,
   "metadata": {},
   "outputs": [
    {
     "data": {
      "text/plain": [
       "numpy.ndarray"
      ]
     },
     "execution_count": 17,
     "metadata": {},
     "output_type": "execute_result"
    }
   ],
   "source": [
    "type(img)"
   ]
  },
  {
   "cell_type": "code",
   "execution_count": 18,
   "metadata": {},
   "outputs": [
    {
     "data": {
      "text/plain": [
       "521950"
      ]
     },
     "execution_count": 18,
     "metadata": {},
     "output_type": "execute_result"
    }
   ],
   "source": [
    "img.size"
   ]
  },
  {
   "cell_type": "code",
   "execution_count": null,
   "metadata": {},
   "outputs": [],
   "source": []
  }
 ],
 "metadata": {
  "kernelspec": {
   "display_name": "Python 3",
   "language": "python",
   "name": "python3"
  },
  "language_info": {
   "codemirror_mode": {
    "name": "ipython",
    "version": 3
   },
   "file_extension": ".py",
   "mimetype": "text/x-python",
   "name": "python",
   "nbconvert_exporter": "python",
   "pygments_lexer": "ipython3",
   "version": "3.7.3"
  }
 },
 "nbformat": 4,
 "nbformat_minor": 2
}
